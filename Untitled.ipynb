{
 "cells": [
  {
   "cell_type": "code",
   "execution_count": 1,
   "metadata": {},
   "outputs": [
    {
     "name": "stderr",
     "output_type": "stream",
     "text": [
      "inferring 'repos = NULL' from 'pkgs'\n",
      "Warning message in install.packages(\"http://www.bnlearn.com/releases/​bnlearn_latest.tar.gz\"):\n",
      "“installation of package ‘/tmp/Rtmpch2cA0/downloaded_packages/​bnlearn_latest.tar.gz’ had non-zero exit status”"
     ]
    }
   ],
   "source": [
    "install.packages(\"http://www.bnlearn.com/releases/​bnlearn_latest.tar.gz\")\n"
   ]
  },
  {
   "cell_type": "code",
   "execution_count": 2,
   "metadata": {},
   "outputs": [
    {
     "name": "stderr",
     "output_type": "stream",
     "text": [
      "Bioconductor version 3.6 (BiocInstaller 1.28.0), ?biocLite for help\n",
      "BioC_mirror: https://bioconductor.org\n",
      "Using Bioconductor 3.6 (BiocInstaller 1.28.0), R 3.4.3 (2017-11-30).\n",
      "Installing package(s) ‘graph’, ‘Rgraphviz’, ‘RBGL’\n",
      "Warning message in download.packages(pkgs, destdir = tmpd, available = available, :\n",
      "“download of package ‘RBGL’ failed”Warning message in install.packages(pkgs = doing, lib = lib, ...):\n",
      "“installation of package ‘graph’ had non-zero exit status”Warning message in install.packages(pkgs = doing, lib = lib, ...):\n",
      "“installation of package ‘Rgraphviz’ had non-zero exit status”Updating HTML index of packages in '.Library'\n",
      "Making 'packages.html' ... done\n"
     ]
    }
   ],
   "source": [
    "source(\"http://bioconductor.org/biocLite.R\")\n",
    "biocLite(c(\"graph\", \"Rgraphviz\", \"RBGL\"))\n",
    "install.packages(\"gRain\")\n",
    "install.packages(\"bnlearn\")"
   ]
  },
  {
   "cell_type": "code",
   "execution_count": 69,
   "metadata": {},
   "outputs": [
    {
     "name": "stderr",
     "output_type": "stream",
     "text": [
      "also installing the dependencies ‘bitops’, ‘gtools’, ‘gdata’, ‘caTools’\n",
      "\n",
      "Updating HTML index of packages in '.Library'\n",
      "Making 'packages.html' ... done\n"
     ]
    }
   ],
   "source": [
    "install.packages(\"gplots\")"
   ]
  },
  {
   "cell_type": "code",
   "execution_count": 70,
   "metadata": {},
   "outputs": [
    {
     "name": "stderr",
     "output_type": "stream",
     "text": [
      "Loading required package: gplots\n",
      "\n",
      "Attaching package: ‘gplots’\n",
      "\n",
      "The following object is masked from ‘package:stats’:\n",
      "\n",
      "    lowess\n",
      "\n"
     ]
    }
   ],
   "source": [
    "require(\"bnlearn\")\n",
    "library (ROCR);"
   ]
  },
  {
   "cell_type": "markdown",
   "metadata": {},
   "source": [
    "<h1>SpamBase</h1>"
   ]
  },
  {
   "cell_type": "code",
   "execution_count": 2,
   "metadata": {},
   "outputs": [],
   "source": [
    "dataset <- read.table(\"spambase.csv\",header=FALSE,sep=\",\")"
   ]
  },
  {
   "cell_type": "code",
   "execution_count": 3,
   "metadata": {},
   "outputs": [],
   "source": [
    "names <- read.csv(\"names.csv\",header=FALSE,sep=\";\")"
   ]
  },
  {
   "cell_type": "code",
   "execution_count": 4,
   "metadata": {},
   "outputs": [],
   "source": [
    "names(dataset) <- sapply((1:nrow(names)),function(i) toString(names[i,1]))"
   ]
  },
  {
   "cell_type": "code",
   "execution_count": 5,
   "metadata": {},
   "outputs": [],
   "source": [
    "stats <- read.table(\"statistics.data\", header=FALSE)"
   ]
  },
  {
   "cell_type": "code",
   "execution_count": 6,
   "metadata": {},
   "outputs": [],
   "source": [
    "t_stats = t(stats)"
   ]
  },
  {
   "cell_type": "code",
   "execution_count": 7,
   "metadata": {},
   "outputs": [],
   "source": [
    "names(t_stats) <- sapply((1:nrow(names)),function(i) toString(names[i,1]))"
   ]
  },
  {
   "cell_type": "code",
   "execution_count": 8,
   "metadata": {},
   "outputs": [],
   "source": [
    "b_dataset <- sapply((1:ncol(dataset)), function(i) as.factor(dataset[,i] >= t_stats[4,i]))"
   ]
  },
  {
   "cell_type": "code",
   "execution_count": 9,
   "metadata": {},
   "outputs": [],
   "source": [
    "index <- sample(nrow(b_dataset), size=floor(nrow(b_dataset)*0.6))"
   ]
  },
  {
   "cell_type": "code",
   "execution_count": 10,
   "metadata": {},
   "outputs": [],
   "source": [
    "b_dataset_train <- b_dataset[index,]\n",
    "b_dataset_test <- b_dataset[-index,]"
   ]
  },
  {
   "cell_type": "code",
   "execution_count": 11,
   "metadata": {},
   "outputs": [
    {
     "data": {
      "text/html": [
       "2760"
      ],
      "text/latex": [
       "2760"
      ],
      "text/markdown": [
       "2760"
      ],
      "text/plain": [
       "[1] 2760"
      ]
     },
     "metadata": {},
     "output_type": "display_data"
    }
   ],
   "source": [
    "nrow(b_dataset_train)"
   ]
  },
  {
   "cell_type": "code",
   "execution_count": 12,
   "metadata": {},
   "outputs": [
    {
     "data": {
      "text/html": [
       "1841"
      ],
      "text/latex": [
       "1841"
      ],
      "text/markdown": [
       "1841"
      ],
      "text/plain": [
       "[1] 1841"
      ]
     },
     "metadata": {},
     "output_type": "display_data"
    }
   ],
   "source": [
    "nrow(b_dataset_test)"
   ]
  },
  {
   "cell_type": "code",
   "execution_count": 13,
   "metadata": {},
   "outputs": [],
   "source": [
    "#data.frame(b_dataset_train)"
   ]
  },
  {
   "cell_type": "code",
   "execution_count": 14,
   "metadata": {},
   "outputs": [
    {
     "data": {
      "text/plain": [
       "       \n",
       "pred    FALSE TRUE\n",
       "  FALSE  1060  123\n",
       "  TRUE     54  604"
      ]
     },
     "metadata": {},
     "output_type": "display_data"
    }
   ],
   "source": [
    "df = data.frame(b_dataset_train)\n",
    "df_test = data.frame(b_dataset_test)\n",
    "bn = naive.bayes(df, \"X58\")\n",
    "fitted = bn.fit(bn, df)\n",
    "pred = predict(fitted, df_test)\n",
    "score = table(pred, df_test[, \"X58\"])\n",
    "print(score)\n",
    "(score[1,1] + score[2,2])/sum(score)"
   ]
  },
  {
   "cell_type": "code",
   "execution_count": 15,
   "metadata": {},
   "outputs": [
    {
     "data": {
      "text/html": [
       "0.90385659967409"
      ],
      "text/latex": [
       "0.90385659967409"
      ],
      "text/markdown": [
       "0.90385659967409"
      ],
      "text/plain": [
       "[1] 0.9038566"
      ]
     },
     "metadata": {},
     "output_type": "display_data"
    }
   ],
   "source": []
  },
  {
   "cell_type": "code",
   "execution_count": 16,
   "metadata": {},
   "outputs": [],
   "source": [
    "?read.table"
   ]
  },
  {
   "cell_type": "markdown",
   "metadata": {},
   "source": [
    "<h1>Adult</h1>"
   ]
  },
  {
   "cell_type": "code",
   "execution_count": 30,
   "metadata": {},
   "outputs": [],
   "source": [
    "names <- c(\"age\", \"work_class\", \"fnlwgt\", \"education\", \"education_num\",\n",
    "           \"marital\", \"occupation\", \"relationship\", \"race\", \"sex\", \n",
    "           \"capital_loss\", \"capital_gain\", \"hours_per_week\", \"native_country\", \"income_level\")\n",
    "names_sel <- c(names[1], names[5], names[13], names[14], names[15])\n",
    "\n",
    "dataset <- read.table(\"adult.data\", header = FALSE, sep = \",\", strip.white = TRUE,\n",
    "                      col.names = names, na.strings = \"?\", stringsAsFactors = TRUE)\n",
    "\n",
    "dataset_test <- read.table(\"adult.test\", header = FALSE, sep = \",\", strip.white = TRUE,\n",
    "                      col.names = names, na.strings = \"?\", stringsAsFactors = TRUE)\n",
    "\n",
    "dataset_train = dataset[!is.na(dataset$native_country),]\n",
    "dataset_test = dataset_test[!is.na(dataset_test$native_country),]\n",
    "colnames(dataset_train) = names\n",
    "colnames(dataset_test) = names\n",
    "dataset_train = dataset_train[, names_sel]\n",
    "dataset_test = dataset_test[, names_sel]"
   ]
  },
  {
   "cell_type": "code",
   "execution_count": 31,
   "metadata": {},
   "outputs": [],
   "source": [
    "thresh = function(dataset, names){\n",
    "    rich_countries = c(\"United-States\", \"Canada\", \"France\", \"England\", \"Germany\")\n",
    "    dataset[, 1] = factor(as.integer(dataset[, 1] >= 25))\n",
    "    dataset[, 2] = factor(as.integer(dataset[, 2] >= 10))\n",
    "    dataset[, 3] = factor(as.integer(dataset[, 3] >= 40))\n",
    "    dataset[, 4] = factor(as.integer(dataset[, 4] %in% rich_countries))\n",
    "    dataset[, 5] = factor(as.integer(dataset[, 5] == \">50K\" | dataset[, 5] == \">50K.\"))\n",
    "    colnames(dataset) = names\n",
    "    return(na.exclude(dataset))\n",
    "}"
   ]
  },
  {
   "cell_type": "code",
   "execution_count": 32,
   "metadata": {},
   "outputs": [],
   "source": [
    "dataset_train = thresh(dataset_train, names_sel)\n",
    "dataset_test = thresh(dataset_test, names_sel)"
   ]
  },
  {
   "cell_type": "code",
   "execution_count": 33,
   "metadata": {},
   "outputs": [
    {
     "name": "stdout",
     "output_type": "stream",
     "text": [
      "'data.frame':\t31978 obs. of  5 variables:\n",
      " $ age           : Factor w/ 2 levels \"0\",\"1\": 2 2 2 2 2 2 2 2 2 2 ...\n",
      " $ education_num : Factor w/ 2 levels \"0\",\"1\": 2 2 1 1 2 2 1 1 2 2 ...\n",
      " $ hours_per_week: Factor w/ 2 levels \"0\",\"1\": 2 1 2 2 2 2 1 2 2 2 ...\n",
      " $ native_country: Factor w/ 2 levels \"0\",\"1\": 2 2 2 2 1 2 1 2 2 2 ...\n",
      " $ income_level  : Factor w/ 2 levels \"0\",\"1\": 1 1 1 1 1 1 1 2 2 2 ...\n",
      "'data.frame':\t16007 obs. of  5 variables:\n",
      " $ age           : Factor w/ 2 levels \"0\",\"1\": 2 2 2 2 1 2 2 2 1 2 ...\n",
      " $ education_num : Factor w/ 2 levels \"0\",\"1\": 1 1 2 2 2 1 1 2 2 1 ...\n",
      " $ hours_per_week: Factor w/ 2 levels \"0\",\"1\": 2 2 2 2 1 1 2 1 2 1 ...\n",
      " $ native_country: Factor w/ 2 levels \"0\",\"1\": 2 2 2 2 2 2 2 2 2 2 ...\n",
      " $ income_level  : Factor w/ 2 levels \"0\",\"1\": 1 1 2 2 1 1 1 2 1 1 ...\n"
     ]
    }
   ],
   "source": [
    "str(dataset_train)\n",
    "str(dataset_test)"
   ]
  },
  {
   "cell_type": "code",
   "execution_count": 34,
   "metadata": {},
   "outputs": [],
   "source": [
    "e = empty.graph(names_sel)\n",
    "arc.set = matrix(c(\"age\", \"education_num\", \"age\", \"hours_per_week\", \"education_num\",\n",
    "                   \"income_level\", \"hours_per_week\", \"income_level\", \"native_country\", \"income_level\"),\n",
    "             ncol = 2, byrow = TRUE,\n",
    "             dimnames = list(NULL, c(\"from\", \"to\")))\n",
    "arcs(e) = arc.set"
   ]
  },
  {
   "cell_type": "code",
   "execution_count": 35,
   "metadata": {},
   "outputs": [
    {
     "data": {
      "image/png": "[encoded data removed]",
      "text/plain": [
       "plot without title"
      ]
     },
     "metadata": {},
     "output_type": "display_data"
    }
   ],
   "source": [
    "plot(e)"
   ]
  },
  {
   "cell_type": "code",
   "execution_count": 102,
   "metadata": {},
   "outputs": [
    {
     "name": "stdout",
     "output_type": "stream",
     "text": [
      "         \n",
      "predicted     0     1\n",
      "        0 12235  3772\n",
      "        1     0     0\n"
     ]
    },
    {
     "data": {
      "text/html": [
       "0.76435309552071"
      ],
      "text/latex": [
       "0.76435309552071"
      ],
      "text/markdown": [
       "0.76435309552071"
      ],
      "text/plain": [
       "[1] 0.7643531"
      ]
     },
     "metadata": {},
     "output_type": "display_data"
    },
    {
     "name": "stdout",
     "output_type": "stream",
     "text": [
      "         \n",
      "predicted     0     1\n",
      "        0 12235  3772\n",
      "        1     0     0\n",
      "[1] \"Total acc\"\n",
      "[1] 0.7643531\n",
      "[1] \"Precision Negative\"\n",
      "[1] 1\n",
      "[1] \"Recall Negative\"\n",
      "[1] 0.7643531\n",
      "[1] \"Precision Positive\"\n",
      "[1] 0\n",
      "[1] \"Recall Positive\"\n",
      "[1] NaN\n"
     ]
    }
   ],
   "source": [
    "fitted = bn.fit(e, dataset_train)\n",
    "predicted = predict(fitted, dataset_test, node=\"income_level\")\n",
    "score = table(predicted, dataset_test[,\"income_level\"])\n",
    "print(score)\n",
    "(score[1,1] + score[2,2])/sum(score)\n",
    "metrics(score)"
   ]
  },
  {
   "cell_type": "code",
   "execution_count": 58,
   "metadata": {},
   "outputs": [],
   "source": [
    "cpt = coef(fitted$age)\n",
    "cpt[1:2] = c(0.35, 0.65)\n",
    "fitted$age = cpt\n",
    "\n",
    "cpt = coef(fitted$native_country)\n",
    "cpt[1:2] = c(0.15, 0.85)\n",
    "fitted$native_country = cpt\n",
    "\n",
    "cpt = coef(fitted$education_num)\n",
    "cpt[1:4] = c(0.60, 0.4, 0.3, 0.7)\n",
    "fitted$education_num = cpt\n",
    "\n",
    "cpt = coef(fitted$hours_per_week)\n",
    "cpt[1:4] = c(0.75, 0.25, 0.3, 0.7)\n",
    "fitted$hours_per_week = cpt"
   ]
  },
  {
   "cell_type": "code",
   "execution_count": 71,
   "metadata": {},
   "outputs": [],
   "source": [
    "cpt = coef(fitted$income_level)\n",
    "cpt[1:16] = c(0.95, 0.05, 0.78, 0.22, 0.92, 0.08, 0.65, 0.35, 0.92, 0.08, 0.65, 0.35, 0.81, 0.19, 0.3, 0.7)\n",
    "fitted$income_level = cpt"
   ]
  },
  {
   "cell_type": "code",
   "execution_count": 90,
   "metadata": {},
   "outputs": [
    {
     "name": "stdout",
     "output_type": "stream",
     "text": [
      "         \n",
      "predicted    0    1\n",
      "        0 8349 1337\n",
      "        1 3886 2435\n",
      "[1] \"Total acc\"\n",
      "[1] 0.6737053\n",
      "[1] \"Precision Negative\"\n",
      "[1] 0.6823866\n",
      "[1] \"Recall Negative\"\n",
      "[1] 0.8619657\n",
      "[1] \"Precision Positive\"\n",
      "[1] 0.6455461\n",
      "[1] \"Recall Positive\"\n",
      "[1] 0.3852239\n"
     ]
    }
   ],
   "source": [
    "predicted = predict(fitted, dataset_test, node=\"income_level\")\n",
    "score = table(predicted, dataset_test[,\"income_level\"])\n",
    "\n",
    "metrics = function(score){\n",
    "    print(score)\n",
    "    print(\"Total acc\")\n",
    "    print((score[1,1] + score[2,2])/sum(score))\n",
    "    print(\"Precision Negative\")\n",
    "    print(score[1,1]/(score[1,1] + score[2,1]))\n",
    "    print(\"Recall Negative\")\n",
    "    print(score[1,1]/(score[1,1] + score[1,2]))\n",
    "\n",
    "    print(\"Precision Positive\")\n",
    "    print(score[2,2]/(score[2,2] + score[1,2]))\n",
    "    print(\"Recall Positive\")\n",
    "    print(score[2,2]/(score[2,2] + score[2,1]))\n",
    "}\n",
    "metrics(score)"
   ]
  },
  {
   "cell_type": "code",
   "execution_count": 54,
   "metadata": {},
   "outputs": [
    {
     "data": {
      "text/html": [
       "<ol class=list-inline>\n",
       "\t<li>0.6</li>\n",
       "\t<li>0.4</li>\n",
       "\t<li>0.3</li>\n",
       "\t<li>0.7</li>\n",
       "</ol>\n"
      ],
      "text/latex": [
       "\\begin{enumerate*}\n",
       "\\item 0.6\n",
       "\\item 0.4\n",
       "\\item 0.3\n",
       "\\item 0.7\n",
       "\\end{enumerate*}\n"
      ],
      "text/markdown": [
       "1. 0.6\n",
       "2. 0.4\n",
       "3. 0.3\n",
       "4. 0.7\n",
       "\n",
       "\n"
      ],
      "text/plain": [
       "[1] 0.6 0.4 0.3 0.7"
      ]
     },
     "metadata": {},
     "output_type": "display_data"
    }
   ],
   "source": []
  },
  {
   "cell_type": "code",
   "execution_count": 92,
   "metadata": {},
   "outputs": [],
   "source": [
    "graph_hc = hc(dataset_train)\n",
    "graph_tabu = tabu(dataset_train)\n",
    "graph_mmhc = mmhc(dataset_train)\n",
    "graph_chow = chow.liu(dataset_train)"
   ]
  },
  {
   "cell_type": "code",
   "execution_count": 99,
   "metadata": {},
   "outputs": [
    {
     "data": {
      "image/png": "[encoded data removed]",
      "text/plain": [
       "plot without title"
      ]
     },
     "metadata": {},
     "output_type": "display_data"
    }
   ],
   "source": [
    "plot(graph_hc)"
   ]
  },
  {
   "cell_type": "code",
   "execution_count": 100,
   "metadata": {},
   "outputs": [
    {
     "data": {
      "image/png": "[encoded data removed]",
      "text/plain": [
       "plot without title"
      ]
     },
     "metadata": {},
     "output_type": "display_data"
    }
   ],
   "source": [
    "plot(graph_tabu)"
   ]
  },
  {
   "cell_type": "code",
   "execution_count": 95,
   "metadata": {},
   "outputs": [],
   "source": [
    "#plot(graph_mmhc)"
   ]
  },
  {
   "cell_type": "code",
   "execution_count": 96,
   "metadata": {},
   "outputs": [],
   "source": [
    "#plot(graph_chow)"
   ]
  },
  {
   "cell_type": "code",
   "execution_count": 97,
   "metadata": {},
   "outputs": [
    {
     "name": "stdout",
     "output_type": "stream",
     "text": [
      "       \n",
      "pred_hc     0     1\n",
      "      0 12235  3772\n",
      "      1     0     0\n"
     ]
    },
    {
     "data": {
      "text/html": [
       "0.76435309552071"
      ],
      "text/latex": [
       "0.76435309552071"
      ],
      "text/markdown": [
       "0.76435309552071"
      ],
      "text/plain": [
       "[1] 0.7643531"
      ]
     },
     "metadata": {},
     "output_type": "display_data"
    },
    {
     "name": "stdout",
     "output_type": "stream",
     "text": [
      "       \n",
      "pred_hc     0     1\n",
      "      0 12235  3772\n",
      "      1     0     0\n",
      "[1] \"Total acc\"\n",
      "[1] 0.7643531\n",
      "[1] \"Precision Negative\"\n",
      "[1] 1\n",
      "[1] \"Recall Negative\"\n",
      "[1] 0.7643531\n",
      "[1] \"Precision Positive\"\n",
      "[1] 0\n",
      "[1] \"Recall Positive\"\n",
      "[1] NaN\n"
     ]
    }
   ],
   "source": [
    "fitted_hc = bn.fit(graph_hc, dataset_train)\n",
    "pred_hc = predict(fitted_hc, dataset_test, node=\"income_level\")\n",
    "score = table(pred_hc, dataset_test[, \"income_level\"])\n",
    "print(score)\n",
    "(score[1,1] + score[2,2])/sum(score)\n",
    "metrics(score)"
   ]
  },
  {
   "cell_type": "code",
   "execution_count": 101,
   "metadata": {},
   "outputs": [
    {
     "name": "stdout",
     "output_type": "stream",
     "text": [
      "         \n",
      "pred_tabu     0     1\n",
      "        0 12235  3772\n",
      "        1     0     0\n"
     ]
    },
    {
     "data": {
      "text/html": [
       "0.76435309552071"
      ],
      "text/latex": [
       "0.76435309552071"
      ],
      "text/markdown": [
       "0.76435309552071"
      ],
      "text/plain": [
       "[1] 0.7643531"
      ]
     },
     "metadata": {},
     "output_type": "display_data"
    },
    {
     "name": "stdout",
     "output_type": "stream",
     "text": [
      "         \n",
      "pred_tabu     0     1\n",
      "        0 12235  3772\n",
      "        1     0     0\n",
      "[1] \"Total acc\"\n",
      "[1] 0.7643531\n",
      "[1] \"Precision Negative\"\n",
      "[1] 1\n",
      "[1] \"Recall Negative\"\n",
      "[1] 0.7643531\n",
      "[1] \"Precision Positive\"\n",
      "[1] 0\n",
      "[1] \"Recall Positive\"\n",
      "[1] NaN\n"
     ]
    }
   ],
   "source": [
    "fitted_tabu = bn.fit(graph_tabu, dataset_train)\n",
    "pred_tabu = predict(fitted_tabu, dataset_test, node=\"income_level\")\n",
    "score = table(pred_tabu, dataset_test[, \"income_level\"])\n",
    "print(score)\n",
    "(score[1,1] + score[2,2])/sum(score)\n",
    "metrics(score)"
   ]
  },
  {
   "cell_type": "code",
   "execution_count": 98,
   "metadata": {},
   "outputs": [
    {
     "name": "stdout",
     "output_type": "stream",
     "text": [
      "    \n",
      "pred     0     1\n",
      "   0 12235  3772\n",
      "   1     0     0\n"
     ]
    },
    {
     "data": {
      "text/html": [
       "0.76435309552071"
      ],
      "text/latex": [
       "0.76435309552071"
      ],
      "text/markdown": [
       "0.76435309552071"
      ],
      "text/plain": [
       "[1] 0.7643531"
      ]
     },
     "metadata": {},
     "output_type": "display_data"
    },
    {
     "name": "stdout",
     "output_type": "stream",
     "text": [
      "    \n",
      "pred     0     1\n",
      "   0 12235  3772\n",
      "   1     0     0\n",
      "[1] \"Total acc\"\n",
      "[1] 0.7643531\n",
      "[1] \"Precision Negative\"\n",
      "[1] 1\n",
      "[1] \"Recall Negative\"\n",
      "[1] 0.7643531\n",
      "[1] \"Precision Positive\"\n",
      "[1] 0\n",
      "[1] \"Recall Positive\"\n",
      "[1] NaN\n"
     ]
    }
   ],
   "source": [
    "bn = naive.bayes(dataset_train, \"income_level\")\n",
    "fitted = bn.fit(bn, dataset_train)\n",
    "pred = predict(fitted, dataset_test)\n",
    "score = table(pred, dataset_test[, \"income_level\"])\n",
    "print(score)\n",
    "(score[1,1] + score[2,2])/sum(score)\n",
    "metrics(score)"
   ]
  },
  {
   "cell_type": "code",
   "execution_count": null,
   "metadata": {},
   "outputs": [],
   "source": [
    "#TODO tentar balancear classes e melhorar threshold"
   ]
  }
 ],
 "metadata": {
  "kernelspec": {
   "display_name": "R",
   "language": "R",
   "name": "ir"
  },
  "language_info": {
   "codemirror_mode": "r",
   "file_extension": ".r",
   "mimetype": "text/x-r-source",
   "name": "R",
   "pygments_lexer": "r",
   "version": "3.4.3"
  }
 },
 "nbformat": 4,
 "nbformat_minor": 2
}
